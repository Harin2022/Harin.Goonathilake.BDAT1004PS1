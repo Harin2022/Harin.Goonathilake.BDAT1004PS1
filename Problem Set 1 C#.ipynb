{
 "cells": [
  {
   "cell_type": "markdown",
   "id": "db321ca4",
   "metadata": {},
   "source": [
    "# Question 1"
   ]
  },
  {
   "cell_type": "markdown",
   "id": "f3c2f65e",
   "metadata": {},
   "source": [
    "int\n",
    "float\n",
    "boolean\n",
    "char\n",
    "int\n",
    "char\n",
    "char\n",
    "float\n",
    "int\n",
    "set\n",
    "boolean\n",
    "float"
   ]
  },
  {
   "cell_type": "markdown",
   "id": "296c544c",
   "metadata": {},
   "source": [
    "# Question 2"
   ]
  },
  {
   "cell_type": "code",
   "execution_count": 10,
   "id": "328c2576",
   "metadata": {
    "scrolled": true
   },
   "outputs": [
    {
     "name": "stdout",
     "output_type": "stream",
     "text": [
      "34\r\n"
     ]
    }
   ],
   "source": [
    "Console.WriteLine(\"Supercalifragilisticexpialidocious\".Length);"
   ]
  },
  {
   "cell_type": "code",
   "execution_count": 11,
   "id": "95f52782",
   "metadata": {},
   "outputs": [
    {
     "name": "stdout",
     "output_type": "stream",
     "text": [
      "Yes\r\n"
     ]
    }
   ],
   "source": [
    "String string1 = \"Supercalifragilisticexpialidocious\";\n",
    "String string2 = \"ice\";\n",
    "if (string1.Contains(string2)){\n",
    "    Console.WriteLine(\"Yes\");\n",
    "}\n",
    "else {\n",
    "    Console.WriteLine(\"No\");\n",
    "}"
   ]
  },
  {
   "cell_type": "code",
   "execution_count": 12,
   "id": "72ce6c53",
   "metadata": {},
   "outputs": [
    {
     "name": "stdout",
     "output_type": "stream",
     "text": [
      "Bababadalgharaghtakamminarronnkonn\r\n"
     ]
    }
   ],
   "source": [
    "String string1 = \"Supercalifragilisticexpialidocious\";\n",
    "String string2 = \"Honorificabilitudinitatibus\";\n",
    "String string3 = \"Bababadalgharaghtakamminarronnkonn\";\n",
    "if (string1.Length > string2.Length && string1.Length > string3.Length){\n",
    "    Console.WriteLine(string1);\n",
    "}\n",
    "else if (string2.Length > string1.Length && string2.Length > string3.Length){\n",
    "    Console.WriteLine(string2);\n",
    "}\n",
    "else {\n",
    "    Console.WriteLine(string3);\n",
    "}"
   ]
  },
  {
   "cell_type": "code",
   "execution_count": 25,
   "id": "c4cf4d35",
   "metadata": {},
   "outputs": [
    {
     "name": "stdout",
     "output_type": "stream",
     "text": [
      "Bartok\n",
      "Bellini\n",
      "Berlioz\n",
      "Bernstein\n",
      "Borodin\n",
      "Brian\n",
      "Buxtehude\n"
     ]
    }
   ],
   "source": [
    "Dictionary <int, string> newDict = new Dictionary <int, string>();\n",
    "newDict.Add(0,\"Berlioz\");\n",
    "newDict.Add(1,\"Borodin\");\n",
    "newDict.Add(2,\"Brian\");\n",
    "newDict.Add(3,\"Bartok\");\n",
    "newDict.Add(4,\"Bellini\");\n",
    "newDict.Add(5,\"Buxtehude\");\n",
    "newDict.Add(6,\"Bernstein\");\n",
    "    \n",
    "foreach (KeyValuePair<int, string> composer in newDict.OrderBy(key => key.Value))\n",
    "{\n",
    "    Console.WriteLine(\"{1}\", composer.Key, composer.Value);\n",
    "}"
   ]
  },
  {
   "cell_type": "markdown",
   "id": "11e42492",
   "metadata": {},
   "source": [
    "# Question 3"
   ]
  },
  {
   "cell_type": "code",
   "execution_count": 16,
   "id": "782991d8",
   "metadata": {},
   "outputs": [
    {
     "name": "stdout",
     "output_type": "stream",
     "text": [
      "Please enter number 1: 2\n",
      "Please enter number 2: 2\n",
      "Please enter number 3: 2\n",
      "Area of triangle is: 1.7320508075688772\n"
     ]
    }
   ],
   "source": [
    "int a = int.Parse(input(\"Please enter number 1: \"));\n",
    "\n",
    "int b = int.Parse(input(\"Please enter number 2: \"));\n",
    "\n",
    "int c = int.Parse(input(\"Please enter number 3: \"));\n",
    "\n",
    "double triangle = triangleArea(a, b, c);\n",
    "\n",
    "Console.WriteLine(\"Area of triangle is: \" + triangle);\n",
    "\n",
    "\n",
    "public double triangleArea(int a, int b, int c)\n",
    "{\n",
    "    double s = (a + b + c) / 2;\n",
    "    double area = Math.Sqrt(s * (s - a) * (s - b) * (s - c));\n",
    "\n",
    "    return area;\n",
    "}"
   ]
  },
  {
   "cell_type": "markdown",
   "id": "0fcb4ec1",
   "metadata": {},
   "source": [
    "# Question 4"
   ]
  },
  {
   "cell_type": "code",
   "execution_count": 6,
   "id": "79cd838a",
   "metadata": {},
   "outputs": [
    {
     "name": "stdout",
     "output_type": "stream",
     "text": [
      "Input number of elements to be stored in array: \n",
      "5\n",
      "Enter element 0: 25\n",
      "Enter element 1: 47\n",
      "Enter element 2: 42\n",
      "Enter element 3: 56\n",
      "Enter element 4: 32\n",
      "The Even Elements Are\n",
      "42 56 32 \n",
      "The Odd Elements Are\n",
      "25 47 \n"
     ]
    }
   ],
   "source": [
    "int len = int.Parse(input(\"Input number of elements to be stored in array: \"));\n",
    "\n",
    "int[] newArray = new int[len];\n",
    "\n",
    "for (int i = 0; i <= len-1; i++){\n",
    "    newArray[i]  =int.Parse(input($\"Enter element {i}: \"));\n",
    "}\n",
    "\n",
    "\n",
    "string oddNum = \"\";\n",
    "\n",
    "string evenNum = \"\";\n",
    "\n",
    "foreach (int i in newArray){\n",
    "    if (i % 2 == 1){\n",
    "        oddNum += i.ToString()+ \" \";\n",
    "    }\n",
    "    else{\n",
    "        evenNum += i.ToString()+ \" \";\n",
    "    }\n",
    "}\n",
    "\n",
    "Console.WriteLine(\"The Even Elements Are\");\n",
    "Console.WriteLine(evenNum);\n",
    "\n",
    "Console.WriteLine(\"The Odd Elements Are\");\n",
    "Console.WriteLine(oddNum);"
   ]
  },
  {
   "cell_type": "markdown",
   "id": "315a8da6",
   "metadata": {},
   "source": [
    "# Question 5"
   ]
  },
  {
   "cell_type": "code",
   "execution_count": 15,
   "id": "9185314f",
   "metadata": {},
   "outputs": [
    {
     "name": "stdout",
     "output_type": "stream",
     "text": [
      "(1,1) (0,0) (2,3)\n",
      "True\n",
      "(-1,-1) (0,0) (2,3)\n",
      "False\n",
      "(1,1) (0.3,0.5) (1.1,0.7)\n",
      "False\n",
      "(1,1) (0.5,0.2) (1.1,2)\n",
      "True\n"
     ]
    }
   ],
   "source": [
    "bool insideRec = inside(1,1,0,0,2,3);\n",
    "Console.WriteLine(\"(1,1) (0,0) (2,3)\");\n",
    "Console.WriteLine(insideRec);\n",
    "\n",
    "bool insideRec2 = inside(-1,-1,0,0,2,3);\n",
    "Console.WriteLine(\"(-1,-1) (0,0) (2,3)\");\n",
    "Console.WriteLine(insideRec2);\n",
    "\n",
    "bool insideRec3 = inside(1,1,0.3,0.5,1.1,0.7);\n",
    "Console.WriteLine(\"(1,1) (0.3,0.5) (1.1,0.7)\");\n",
    "Console.WriteLine(insideRec3);\n",
    "\n",
    "bool insideRec4 = inside(1,1,0.5,0.2,1.1,2);\n",
    "Console.WriteLine(\"(1,1) (0.5,0.2) (1.1,2)\");\n",
    "Console.WriteLine(insideRec4);\n",
    "\n",
    "private bool inside(double x, double y, double x1, double y1, double x2, double y2){\n",
    "    if (x1 <= x  && x <= x2 ){\n",
    "        if (y1 <= y && y <= y2 ){\n",
    "            return true;\n",
    "        }\n",
    "        else{\n",
    "            return false;\n",
    "        }\n",
    "    }\n",
    "    else{\n",
    "        return false;\n",
    "    }\n",
    "}"
   ]
  }
 ],
 "metadata": {
  "kernelspec": {
   "display_name": ".NET (C#)",
   "language": "C#",
   "name": ".net-csharp"
  },
  "language_info": {
   "file_extension": ".cs",
   "mimetype": "text/x-csharp",
   "name": "C#",
   "pygments_lexer": "csharp",
   "version": "10.0"
  }
 },
 "nbformat": 4,
 "nbformat_minor": 5
}
