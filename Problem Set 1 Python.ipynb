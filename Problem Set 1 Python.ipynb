{
 "cells": [
  {
   "cell_type": "markdown",
   "id": "06829fa0",
   "metadata": {},
   "source": [
    "# Question 6"
   ]
  },
  {
   "cell_type": "code",
   "execution_count": 95,
   "id": "783fb253",
   "metadata": {},
   "outputs": [
    {
     "name": "stdout",
     "output_type": "stream",
     "text": [
      "Please enter string: HAPPY\n",
      "appyhay\n"
     ]
    }
   ],
   "source": [
    "def pig(inputString):\n",
    "    outputString = ''\n",
    "    lowercaseString = inputString.lower()\n",
    "    firstChar = lowercaseString[0]\n",
    "    if (firstChar == 'a' or firstChar == 'e' or firstChar == 'i' or firstChar == 'o' or firstChar == 'u'):\n",
    "        outputString = lowercaseString + 'way'\n",
    "    else :\n",
    "        outputString = lowercaseString[1:] + lowercaseString[0] + 'ay'\n",
    "    return outputString\n",
    "\n",
    "originalString = input(\"Please enter string: \")\n",
    "pigString = pig(originalString)\n",
    "\n",
    "print(pigString)"
   ]
  },
  {
   "cell_type": "markdown",
   "id": "2dbe8cc0",
   "metadata": {},
   "source": [
    "# Question 7"
   ]
  },
  {
   "cell_type": "code",
   "execution_count": 3,
   "id": "6d00fd19",
   "metadata": {},
   "outputs": [
    {
     "name": "stdout",
     "output_type": "stream",
     "text": [
      "Please enter filename: bloodtype1.txt\n",
      "There are 15 patients of blood type A.\n",
      "There are 1 patients of blood type B.\n",
      "There are 13 patients of blood type AB.\n",
      "There are 15 patients of blood type O.\n",
      "There are 0 patients of blood type OO.\n"
     ]
    }
   ],
   "source": [
    "def bldcount(file):\n",
    "    fileName = open(\"bloodtype1.txt\",'r')\n",
    "    bloodtype1 = fileName.read()\n",
    "    fileName.close()\n",
    "\n",
    "    splitFile = bloodtype1.split()\n",
    "\n",
    "    #print(splitFile)\n",
    "    bloodTypes = {0:{0:'A',1:0},1:{0:'B',1:0},2:{0:'AB',1:0},3:{0:'O',1:0},4:{0:'OO',1:0}}\n",
    "\n",
    "    i = 0\n",
    "    while i < len(bloodTypes):\n",
    "        for y in splitFile:\n",
    "            if (bloodTypes[i][0] == y):\n",
    "                bloodTypes[i][1] += 1\n",
    "            #print (y)\n",
    "            #print(bloodTypes[i])\n",
    "        i += 1\n",
    "\n",
    "\n",
    "    j = 0\n",
    "    while j < len(bloodTypes):\n",
    "        a = bloodTypes[j][1]\n",
    "        b = bloodTypes[j][0]\n",
    "        print (\"There are {} patients of blood type {}.\".format(a,b))\n",
    "        j += 1\n",
    "\n",
    "fileName = input(\"Please enter filename: \")\n",
    "bldcount(fileName)"
   ]
  },
  {
   "cell_type": "markdown",
   "id": "04c47b3d",
   "metadata": {},
   "source": [
    "# Question 8"
   ]
  },
  {
   "cell_type": "code",
   "execution_count": 75,
   "id": "0840c964",
   "metadata": {},
   "outputs": [
    {
     "name": "stdout",
     "output_type": "stream",
     "text": [
      "Please enter country: JPY\n",
      "Please enter amount: 100\n",
      "1.241401\n"
     ]
    }
   ],
   "source": [
    "fileName = open(\"currencies.txt\",'r')\n",
    "currenciesFile = fileName.readlines()\n",
    "fileName.close()\n",
    "\n",
    "def currconv(country,amount): \n",
    "    \n",
    "    splitCountry = []\n",
    "    for x in currenciesFile:\n",
    "        splitCountry.append(x.split())\n",
    "    \n",
    "    i = 0\n",
    "    while i < len(splitCountry):\n",
    "        if country == splitCountry[i][0]:\n",
    "            break\n",
    "        else:\n",
    "            i += 1\n",
    "            \n",
    "    newAmount = float(splitCountry[i][1])*float(amount)\n",
    "    \n",
    "    return newAmount\n",
    "\n",
    "#print(currenciesFile)\n",
    "\n",
    "currCountry = input(\"Please enter country: \")\n",
    "currAmount = input(\"Please enter amount: \")\n",
    "\n",
    "convertedAmount = currconv(currCountry,currAmount)\n",
    "\n",
    "print(convertedAmount)"
   ]
  },
  {
   "cell_type": "markdown",
   "id": "8432ec7f",
   "metadata": {},
   "source": [
    "# Question 9"
   ]
  },
  {
   "cell_type": "markdown",
   "id": "8d61abc4",
   "metadata": {},
   "source": [
    "TypeError\n",
    "IndexError\n",
    "ValueError\n",
    "NameError\n",
    "FileNotFoundError"
   ]
  },
  {
   "cell_type": "markdown",
   "id": "2aa2c7ab",
   "metadata": {},
   "source": [
    "# Question 10"
   ]
  },
  {
   "cell_type": "code",
   "execution_count": 83,
   "id": "76cf7303",
   "metadata": {},
   "outputs": [
    {
     "name": "stdout",
     "output_type": "stream",
     "text": [
      "Please enter required string: The quick red fox got bored and went home.\n",
      "[1, 1, 1, 3, 5, 1, 1, 2, 1, 0, 1, 0, 1, 2, 4, 0, 1, 2, 0, 2, 1, 0, 1, 1, 0, 0]\n"
     ]
    }
   ],
   "source": [
    "def frequencies(line):\n",
    "    letters = 'abcdefghijklmnopqrstuvwxyz'\n",
    "    lettersArray = []\n",
    "    for x in letters:\n",
    "        count = 0\n",
    "        count = string.count(x)\n",
    "        lettersArray.append(count)\n",
    "        \n",
    "    return lettersArray\n",
    "    \n",
    "sentence = input(\"Please enter required string: \")\n",
    "\n",
    "newArray = frequencies(sentence)\n",
    "\n",
    "print(newArray)\n"
   ]
  }
 ],
 "metadata": {
  "kernelspec": {
   "display_name": "Python 3 (ipykernel)",
   "language": "python",
   "name": "python3"
  },
  "language_info": {
   "codemirror_mode": {
    "name": "ipython",
    "version": 3
   },
   "file_extension": ".py",
   "mimetype": "text/x-python",
   "name": "python",
   "nbconvert_exporter": "python",
   "pygments_lexer": "ipython3",
   "version": "3.9.12"
  }
 },
 "nbformat": 4,
 "nbformat_minor": 5
}
